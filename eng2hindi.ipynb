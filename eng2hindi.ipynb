{
 "cells": [
  {
   "cell_type": "markdown",
   "metadata": {},
   "source": [
    "### Setting up the dependencies"
   ]
  },
  {
   "cell_type": "code",
   "execution_count": 1,
   "metadata": {},
   "outputs": [],
   "source": [
    "import torch\n",
    "import torch.nn as nn\n",
    "import torch.optim as optim\n",
    "from torch.autograd import Variable\n",
    "import torch.nn.functional as F\n",
    "import numpy as np"
   ]
  },
  {
   "cell_type": "code",
   "execution_count": 3,
   "metadata": {},
   "outputs": [],
   "source": [
    "import matplotlib.pyplot as plt\n",
    "import seaborn as sns\n",
    "from IPython.display import clear_output\n",
    "\n",
    "import random"
   ]
  },
  {
   "cell_type": "code",
   "execution_count": 2,
   "metadata": {},
   "outputs": [],
   "source": [
    "if torch.backends.mps.is_available():\n",
    "    device_gpu = torch.device(\"mps\")\n",
    "else:\n",
    "    device_gpu = torch.device(\"cpu\")"
   ]
  },
  {
   "cell_type": "markdown",
   "metadata": {},
   "source": [
    "### Alphabet Setup"
   ]
  },
  {
   "cell_type": "code",
   "execution_count": 4,
   "metadata": {},
   "outputs": [
    {
     "name": "stdout",
     "output_type": "stream",
     "text": [
      "{'-PAD-': 0, 'A': 1, 'B': 2, 'C': 3, 'D': 4, 'E': 5, 'F': 6, 'G': 7, 'H': 8, 'I': 9, 'J': 10, 'K': 11, 'L': 12, 'M': 13, 'N': 14, 'O': 15, 'P': 16, 'Q': 17, 'R': 18, 'S': 19, 'T': 20, 'U': 21, 'V': 22, 'W': 23, 'X': 24, 'Y': 25, 'Z': 26}\n"
     ]
    }
   ],
   "source": [
    "eng_alphabets = 'ABCDEFGHIJKLMNOPQRSTUVWXYZ'\n",
    "pad_char = '-PAD-'\n",
    "eng_alpha2index = {pad_char: 0}\n",
    "for index, alpha in enumerate(eng_alphabets):\n",
    "    eng_alpha2index[alpha] = index+1\n",
    "print(eng_alpha2index)"
   ]
  },
  {
   "cell_type": "code",
   "execution_count": 5,
   "metadata": {},
   "outputs": [
    {
     "name": "stdout",
     "output_type": "stream",
     "text": [
      "{'-PAD-': 0, 'ऀ': 1, 'ँ': 2, 'ं': 3, 'ः': 4, 'ऄ': 5, 'अ': 6, 'आ': 7, 'इ': 8, 'ई': 9, 'उ': 10, 'ऊ': 11, 'ऋ': 12, 'ऌ': 13, 'ऍ': 14, 'ऎ': 15, 'ए': 16, 'ऐ': 17, 'ऑ': 18, 'ऒ': 19, 'ओ': 20, 'औ': 21, 'क': 22, 'ख': 23, 'ग': 24, 'घ': 25, 'ङ': 26, 'च': 27, 'छ': 28, 'ज': 29, 'झ': 30, 'ञ': 31, 'ट': 32, 'ठ': 33, 'ड': 34, 'ढ': 35, 'ण': 36, 'त': 37, 'थ': 38, 'द': 39, 'ध': 40, 'न': 41, 'ऩ': 42, 'प': 43, 'फ': 44, 'ब': 45, 'भ': 46, 'म': 47, 'य': 48, 'र': 49, 'ऱ': 50, 'ल': 51, 'ळ': 52, 'ऴ': 53, 'व': 54, 'श': 55, 'ष': 56, 'स': 57, 'ह': 58, 'ऺ': 59, 'ऻ': 60, '़': 61, 'ऽ': 62, 'ा': 63, 'ि': 64, 'ी': 65, 'ु': 66, 'ू': 67, 'ृ': 68, 'ॄ': 69, 'ॅ': 70, 'ॆ': 71, 'े': 72, 'ै': 73, 'ॉ': 74, 'ॊ': 75, 'ो': 76, 'ौ': 77, '्': 78, 'ॎ': 79, 'ॏ': 80, 'ॐ': 81, '॑': 82, '॒': 83, '॓': 84, '॔': 85, 'ॕ': 86, 'ॖ': 87, 'ॗ': 88, 'क़': 89, 'ख़': 90, 'ग़': 91, 'ज़': 92, 'ड़': 93, 'ढ़': 94, 'फ़': 95, 'य़': 96, 'ॠ': 97, 'ॡ': 98, 'ॢ': 99, 'ॣ': 100, '।': 101, '॥': 102, '०': 103, '१': 104, '२': 105, '३': 106, '४': 107, '५': 108, '६': 109, '७': 110, '८': 111, '९': 112, '॰': 113, 'ॱ': 114, 'ॲ': 115, 'ॳ': 116, 'ॴ': 117, 'ॵ': 118, 'ॶ': 119, 'ॷ': 120, 'ॸ': 121, 'ॹ': 122, 'ॺ': 123, 'ॻ': 124, 'ॼ': 125, 'ॽ': 126, 'ॾ': 127, 'ॿ': 128}\n"
     ]
    }
   ],
   "source": [
    "hindi_alphabets = [chr(alpha) for alpha in range(2304, 2432)]\n",
    "hindi_alphabet_size = len(hindi_alphabets)\n",
    "hindi_alpha2index = {pad_char: 0}\n",
    "for index, alpha in enumerate(hindi_alphabets):\n",
    "    hindi_alpha2index[alpha] = index+1\n",
    "print(hindi_alpha2index)"
   ]
  },
  {
   "cell_type": "markdown",
   "metadata": {},
   "source": [
    "### Data Preprocessing"
   ]
  },
  {
   "cell_type": "code",
   "execution_count": 6,
   "metadata": {},
   "outputs": [],
   "source": [
    "import re\n",
    "non_eng_letters_regex = re.compile('[^a-zA-Z ]')"
   ]
  },
  {
   "cell_type": "code",
   "execution_count": 7,
   "metadata": {},
   "outputs": [],
   "source": [
    "def cleanEnglishVocab(line):\n",
    "    line = line.replace('-', ' ').replace(',', ' ').upper()\n",
    "    line = non_eng_letters_regex.sub('', line)\n",
    "    return line.split()"
   ]
  },
  {
   "cell_type": "code",
   "execution_count": 8,
   "metadata": {},
   "outputs": [],
   "source": [
    "def cleanHindiVocab(line):\n",
    "    line = line.replace('-', ' ').replace(',', ' ')\n",
    "    cleaned_line = ''\n",
    "    for char in line:\n",
    "        if char in hindi_alpha2index or char == ' ':\n",
    "            cleaned_line += char\n",
    "    return cleaned_line.split()"
   ]
  },
  {
   "cell_type": "markdown",
   "metadata": {},
   "source": [
    "### Data Ingestion"
   ]
  },
  {
   "cell_type": "code",
   "execution_count": 9,
   "metadata": {},
   "outputs": [],
   "source": [
    "from torch.utils.data import Dataset\n",
    "import xml.etree.ElementTree as ET\n",
    "\n",
    "class TransliterationDataLoader(Dataset):\n",
    "    def __init__(self, filename):\n",
    "        self.eng_words, self.hindi_words = self.readXmlDataset(filename, cleanHindiVocab)\n",
    "        self.shuffle_indices = list(range(len(self.eng_words)))\n",
    "        random.shuffle(self.shuffle_indices)\n",
    "        self.shuffle_start_index = 0\n",
    "        \n",
    "    def __len__(self):\n",
    "        return len(self.eng_words)\n",
    "    \n",
    "    def __getitem__(self, idx):\n",
    "        return self.eng_words[idx], self.hindi_words[idx]\n",
    "    \n",
    "    def readXmlDataset(self, filename, lang_vocab_cleaner):\n",
    "        transliterationCorpus = ET.parse(filename).getroot()\n",
    "        lang1_words = []\n",
    "        lang2_words = []\n",
    "\n",
    "        for line in transliterationCorpus:\n",
    "            wordlist1 = cleanEnglishVocab(line[0].text)\n",
    "            wordlist2 = lang_vocab_cleaner(line[1].text)\n",
    "\n",
    "            # Skip noisy data\n",
    "            if len(wordlist1) != len(wordlist2):\n",
    "                print('Skipping: ', line[0].text, ' - ', line[1].text)\n",
    "                continue\n",
    "\n",
    "            for word in wordlist1:\n",
    "                lang1_words.append(word)\n",
    "            for word in wordlist2:\n",
    "                lang2_words.append(word)\n",
    "\n",
    "        return lang1_words, lang2_words\n",
    "    \n",
    "    def get_random_sample(self):\n",
    "        return self.__getitem__(np.random.randint(len(self.eng_words)))\n",
    "    \n",
    "    def get_batch_from_array(self, batch_size, array):\n",
    "        end = self.shuffle_start_index + batch_size\n",
    "        batch = []\n",
    "        if end >= len(self.eng_words):\n",
    "            batch = [array[i] for i in self.shuffle_indices[0:end%len(self.eng_words)]]\n",
    "            end = len(self.eng_words)\n",
    "        return batch + [array[i] for i in self.shuffle_indices[self.shuffle_start_index : end]]\n",
    "    \n",
    "    def get_batch(self, batch_size, postprocess = True):\n",
    "        eng_batch = self.get_batch_from_array(batch_size, self.eng_words)\n",
    "        hindi_batch = self.get_batch_from_array(batch_size, self.hindi_words)\n",
    "        self.shuffle_start_index += batch_size + 1\n",
    "        \n",
    "        # Reshuffle if 1 epoch is complete\n",
    "        if self.shuffle_start_index >= len(self.eng_words):\n",
    "            random.shuffle(self.shuffle_indices)\n",
    "            self.shuffle_start_index = 0\n",
    "            \n",
    "        return eng_batch, hindi_batch"
   ]
  },
  {
   "cell_type": "code",
   "execution_count": 10,
   "metadata": {},
   "outputs": [
    {
     "name": "stdout",
     "output_type": "stream",
     "text": [
      "Skipping:  BARHARWA JUNCTION  -  बरहरवा\n",
      "Skipping:  STATE BNK TR  -  स्टेट बैंक ऑफ त्रावणकोर\n",
      "Skipping:  SOUTH ARLINGTON CHURCH OF CHRIST  -  साउथ अर्लिंग्टन\n",
      "Skipping:  KING EDWARD VII  -  किंग एडवर्ड\n",
      "Skipping:  DIBANG VALLEY  -  दिबंगवैली\n",
      "Skipping:  ORDER OF VASA  -  ऑडर ऑफ़ द वासा\n",
      "Skipping:  AZAMNAGAR ROAD  -  आज़मनगर\n",
      "Skipping:  CAPE TOWN  -  केपटाउन\n",
      "Skipping:  NEW ZEALAND  -  न्यूज़ीलैंड\n",
      "Skipping:  SEA OF THE HEBRIDES  -  सी ऑफ हरब्रिड्‍स\n",
      "Skipping:  RAMCOIND  -  राम्को इंड\n",
      "Skipping:  KELVINGROVE ART GALLERY AND MUSEUM  -  केल्व‍िनग्रोव आर्ट एण्ड म्युज़ियम\n",
      "Skipping:  AUSTRALIAN NATIONAL UNIVERSITY  -  ऑस्ट्रेलियननेशनल यूनिवर्सिटी\n",
      "Skipping:  JAHAN AARA  -  जहाँआरा\n",
      "Skipping:  NAVABHARAT FERRO ALLOYS  -  नव भारत फ़ैरो अलॉय\n",
      "Skipping:  RAMA LINGESHWARA  -  रामालिंगेश्वर\n",
      "Skipping:  FAKHRUN NISA  -  फखरुन्निसा\n",
      "Skipping:  REDIFF.COM INDIA LIMITED  -  रेडिफ़ डॉट कॉम इंडिया लिमिटेड\n",
      "Skipping:  OMKARNATH THAKUR  -  ओंकार नाथ ठाकुर\n",
      "Skipping:  OPENTV  -  ओपन टीवी\n",
      "Skipping:  ENVOY COMMUNICATIONS GROUP  -  एन्वॉय कम्युनिकेशंस\n",
      "Skipping:  WAR OF THE HOLY LEAGUE  -  वार ऑफ होली लीग\n",
      "Skipping:  VAPARAISO CHURCH OF CHRIST  -  व्हापरासिओ\n",
      "Skipping:  PARIS CHARLES DE GAULLE  -  पेरिस रॉसे चार्ल्स डे ग्यूले\n",
      "Skipping:  PARKWAY APOSTOLIC  -  पार्क वे अपोस्टोलिक\n",
      "Skipping:  MAUNA LOA  -  मौनालोआ\n",
      "Skipping:  MASS MUTUAL LIFE  -  मास म्युच्युअल लाइफ़ इंश्योरेंस\n",
      "Skipping:  STATS CHIPPAC  -  स्टेट्सचिपपैक\n",
      "Skipping:  NEWFOUNDLAND  -  न्यू फाउंडलैंड\n",
      "Skipping:  LONDONHEATHROW  -  लंदन हीथ्रो\n",
      "Skipping:  RETALIX  -  रेटालिक्स लि.\n",
      "Skipping:  SRISAILAM  -  श्री शैलम\n",
      "Skipping:  KARA-KUM  -  काराकुम\n",
      "Skipping:  WIND RIVER  -  विंडरिवर\n",
      "Skipping:  NETAJI SUBHASH CHANDRA BOSE  -  नेताजी सुभाषचंद्र बोस\n",
      "Skipping:  ROCKBROOK UNITED  -  रॉकब्रुक यूनाइटेड मेथोडिस्ट\n",
      "Skipping:  WALTER SCOTT  -  वॉल्टरस्कॉट\n",
      "Skipping:  COLOURPLUS FASHIONS  -  कलर प्लस फ़ैशन्स\n",
      "Skipping:  BAL KRISHNA  -  बालकृष्णा\n"
     ]
    }
   ],
   "source": [
    "train_data = TransliterationDataLoader('NEWS2012TrainingEnHi13937.xml')\n",
    "test_data = TransliterationDataLoader('NEWS2012RefEnHi1000.xml')"
   ]
  },
  {
   "cell_type": "markdown",
   "metadata": {},
   "source": [
    "### Visualizing Data"
   ]
  },
  {
   "cell_type": "code",
   "execution_count": 11,
   "metadata": {},
   "outputs": [
    {
     "name": "stdout",
     "output_type": "stream",
     "text": [
      "Train Set Size:\t 20543\n",
      "Test Set Size:\t 1000\n",
      "\n",
      "Sample data from train-set:\n",
      "VELA - वेला\n",
      "KE - के\n",
      "ABDUL - अब्दुल\n",
      "WINONA - विनोना\n",
      "MAANAKALAAL - माणकलाल\n",
      "HUZAYL - हुज़ायल\n",
      "SONIPAT - सोनीपत\n",
      "LAMYA - लमया\n",
      "INNISFALLEN - इनिसफॉलन\n",
      "JAWAD - जवाद\n"
     ]
    }
   ],
   "source": [
    "print(\"Train Set Size:\\t\", len(train_data))\n",
    "print(\"Test Set Size:\\t\", len(test_data))\n",
    "\n",
    "print('\\nSample data from train-set:')\n",
    "for i in range(10):\n",
    "    eng, hindi = train_data.get_random_sample()\n",
    "    print(eng + ' - ' + hindi)"
   ]
  },
  {
   "cell_type": "markdown",
   "metadata": {},
   "source": [
    "### Encoding Words"
   ]
  },
  {
   "cell_type": "code",
   "execution_count": 12,
   "metadata": {},
   "outputs": [],
   "source": [
    "##encoding the english input\n",
    "def word_rep(word,letter2index,device=\"cpu\"):\n",
    "    rep = torch.zeros(len(word)+1,1,len(letter2index)).to(device)\n",
    "    for letter_index,letter in enumerate(word):\n",
    "        pos = letter2index[letter]\n",
    "        rep[letter_index][0][pos]=1\n",
    "    pad_pos=letter2index[pad_char]\n",
    "    rep[letter_index+1][0][pad_pos]=1\n",
    "    return rep"
   ]
  },
  {
   "cell_type": "code",
   "execution_count": 13,
   "metadata": {},
   "outputs": [],
   "source": [
    "def gt_rep(word, letter2index, device = 'cpu'):\n",
    "    gt_rep = torch.zeros([len(word)+1, 1], dtype=torch.long).to(device)\n",
    "    for letter_index, letter in enumerate(word):\n",
    "        pos = letter2index[letter]\n",
    "        gt_rep[letter_index][0] = pos\n",
    "    gt_rep[letter_index+1][0] = letter2index[pad_char]\n",
    "    return gt_rep"
   ]
  },
  {
   "cell_type": "code",
   "execution_count": 16,
   "metadata": {},
   "outputs": [],
   "source": [
    "eng, hindi = train_data.get_random_sample()"
   ]
  },
  {
   "cell_type": "code",
   "execution_count": 17,
   "metadata": {},
   "outputs": [
    {
     "name": "stdout",
     "output_type": "stream",
     "text": [
      "JOHN tensor([[[0., 0., 0., 0., 0., 0., 0., 0., 0., 0., 1., 0., 0., 0., 0., 0., 0.,\n",
      "          0., 0., 0., 0., 0., 0., 0., 0., 0., 0.]],\n",
      "\n",
      "        [[0., 0., 0., 0., 0., 0., 0., 0., 0., 0., 0., 0., 0., 0., 0., 1., 0.,\n",
      "          0., 0., 0., 0., 0., 0., 0., 0., 0., 0.]],\n",
      "\n",
      "        [[0., 0., 0., 0., 0., 0., 0., 0., 1., 0., 0., 0., 0., 0., 0., 0., 0.,\n",
      "          0., 0., 0., 0., 0., 0., 0., 0., 0., 0.]],\n",
      "\n",
      "        [[0., 0., 0., 0., 0., 0., 0., 0., 0., 0., 0., 0., 0., 0., 1., 0., 0.,\n",
      "          0., 0., 0., 0., 0., 0., 0., 0., 0., 0.]],\n",
      "\n",
      "        [[1., 0., 0., 0., 0., 0., 0., 0., 0., 0., 0., 0., 0., 0., 0., 0., 0.,\n",
      "          0., 0., 0., 0., 0., 0., 0., 0., 0., 0.]]])\n"
     ]
    }
   ],
   "source": [
    "eng_rep = word_rep(eng, eng_alpha2index)\n",
    "print(eng, eng_rep)"
   ]
  },
  {
   "cell_type": "code",
   "execution_count": 18,
   "metadata": {},
   "outputs": [
    {
     "name": "stdout",
     "output_type": "stream",
     "text": [
      "जॉन tensor([[29],\n",
      "        [74],\n",
      "        [41],\n",
      "        [ 0]])\n"
     ]
    }
   ],
   "source": [
    "hindi_gt = gt_rep(hindi, hindi_alpha2index)\n",
    "print(hindi, hindi_gt)"
   ]
  },
  {
   "cell_type": "markdown",
   "metadata": {},
   "source": [
    "### Encoder Decoder with attention"
   ]
  },
  {
   "cell_type": "code",
   "execution_count": 22,
   "metadata": {},
   "outputs": [],
   "source": [
    "MAX_OUTPUT_CHARS = 30\n",
    "\n",
    "class Transliteration_EncoderDecoderAttention_Type2(nn.Module):\n",
    "    def __init__(self, input_size, hidden_size, output_size):\n",
    "        super(Transliteration_EncoderDecoderAttention_Type2, self).__init__()\n",
    "        self.hidden_size = hidden_size\n",
    "        self.output_size = output_size\n",
    "        self.encoder_rnn_cell = nn.GRU(input_size, hidden_size)\n",
    "        self.decoder_rnn_cell = nn.GRU(hidden_size*2, hidden_size)\n",
    "        self.h2o = nn.Linear(hidden_size, output_size)\n",
    "        self.softmax = nn.LogSoftmax(dim=2)\n",
    "\n",
    "        self.U = nn.Linear(self.hidden_size, self.hidden_size)\n",
    "        self.W = nn.Linear(self.hidden_size, self.hidden_size)\n",
    "        self.attn = nn.Linear(self.hidden_size, 1)\n",
    "        self.out2hidden = nn.Linear(self.output_size, self.hidden_size)\n",
    "\n",
    "\n",
    "    def forward(self, input, max_output_chars = MAX_OUTPUT_CHARS, device = 'cpu', ground_truth = None):\n",
    "        encoder_outputs, hidden = self.encoder_rnn_cell(input)\n",
    "        encoder_outputs = encoder_outputs.view(-1, self.hidden_size)\n",
    "        decoder_state = hidden\n",
    "\n",
    "        decoder_input = torch.zeros(1, 1, self.output_size).to(device)\n",
    "        outputs = []\n",
    "        U = self.U(encoder_outputs)\n",
    "\n",
    "        for i in range(max_output_chars):\n",
    "            W = self.W(decoder_state.view(1, -1).repeat(encoder_outputs.shape[0], 1))\n",
    "            V = self.attn(torch.tanh(U + W))\n",
    "            attn_weights = F.softmax(V.view(1, -1), dim = 1)\n",
    "\n",
    "            attn_applied = torch.bmm(attn_weights.unsqueeze(0),\n",
    "                                 encoder_outputs.unsqueeze(0))\n",
    "            embedding = self.out2hidden(decoder_input)\n",
    "            decoder_input = torch.cat((embedding[0], attn_applied[0]), 1).unsqueeze(0)\n",
    "\n",
    "            out, decoder_state = self.decoder_rnn_cell(decoder_input, decoder_state)\n",
    "            out = self.h2o(decoder_state)\n",
    "            out = self.softmax(out)\n",
    "            outputs.append(out.view(1, -1))\n",
    "            # Get OHE from Softmax: https://discuss.pytorch.org/t/softmax-to-one-hot/37302\n",
    "            max_idx = torch.argmax(out, 2, keepdim=True)\n",
    "            if not ground_truth is None:\n",
    "                max_idx = ground_truth[i].reshape(1, 1, 1)\n",
    "            one_hot = torch.zeros(out.shape, device=device)\n",
    "            one_hot.scatter_(2, max_idx, 1) # In dim 2, set max_idx's as 1\n",
    "            decoder_input = one_hot.detach()\n",
    "\n",
    "        return outputs"
   ]
  },
  {
   "cell_type": "markdown",
   "metadata": {},
   "source": [
    "### Training"
   ]
  },
  {
   "cell_type": "code",
   "execution_count": 23,
   "metadata": {},
   "outputs": [],
   "source": [
    "def train_batch(net, opt, criterion, batch_size, device = 'cpu', teacher_force = False):\n",
    "    net.train().to(device)\n",
    "    opt.zero_grad()\n",
    "    eng_batch, hindi_batch = train_data.get_batch(batch_size)\n",
    "\n",
    "    total_loss = 0\n",
    "    for i in range(batch_size):\n",
    "        input = word_rep(eng_batch[i], eng_alpha2index, device)\n",
    "        gt = gt_rep(hindi_batch[i], hindi_alpha2index, device)\n",
    "        outputs = net(input, gt.shape[0], device, ground_truth = gt if teacher_force else None)\n",
    "\n",
    "        for index, output in enumerate(outputs):\n",
    "            loss = criterion(output, gt[index]) / batch_size\n",
    "            loss.backward(retain_graph = True)\n",
    "            total_loss += loss\n",
    "\n",
    "    opt.step()\n",
    "    return total_loss/batch_size"
   ]
  },
  {
   "cell_type": "code",
   "execution_count": 24,
   "metadata": {},
   "outputs": [],
   "source": [
    "def train_setup(net, lr = 0.01, n_batches = 100, batch_size = 10, momentum = 0.9, display_freq=5, device = 'cpu'):\n",
    "    net = net.to(device)\n",
    "    criterion = nn.NLLLoss(ignore_index = -1)\n",
    "    opt = optim.Adam(net.parameters(), lr=lr)\n",
    "    teacher_force_upto = n_batches//3\n",
    "\n",
    "    loss_arr = np.zeros(n_batches + 1)\n",
    "\n",
    "    for i in range(n_batches):\n",
    "        loss_arr[i+1] = (loss_arr[i]*i + train_batch(net, opt, criterion, batch_size, device = device, teacher_force = i<teacher_force_upto ))/(i + 1)\n",
    "\n",
    "        if i%display_freq == display_freq-1:\n",
    "            clear_output(wait=True)\n",
    "\n",
    "            print('Iteration', i, 'Loss', loss_arr[i])\n",
    "            # print('Top-1:', eval(net, len(X_test), 1, X_test, y_test), 'Top-2:', eval(net, len(X_test), 2, X_test, y_test))\n",
    "            plt.figure()\n",
    "            plt.plot(loss_arr[1:i], '-*')\n",
    "            plt.xlabel('Iteration')\n",
    "            plt.ylabel('Loss')\n",
    "            plt.show()\n",
    "            print('\\n\\n')\n",
    "\n",
    "    #print('Top-1:', eval(net, len(X_test), 1, X_test, y_test, device), 'Top-2:', eval(net, len(X_test), 2, X_test, y_test, device))\n",
    "    torch.save(net, 'model.pt')\n",
    "    return loss_arr"
   ]
  },
  {
   "cell_type": "code",
   "execution_count": 25,
   "metadata": {},
   "outputs": [],
   "source": [
    "net3 = Transliteration_EncoderDecoderAttention_Type2(len(eng_alpha2index), 256, len(hindi_alpha2index))"
   ]
  },
  {
   "cell_type": "code",
   "execution_count": 26,
   "metadata": {},
   "outputs": [
    {
     "name": "stdout",
     "output_type": "stream",
     "text": [
      "Iteration 19999 Loss 0.028759565204381943\n"
     ]
    },
    {
     "data": {
      "image/png": "[encoded data removed]",
      "text/plain": [
       "<Figure size 640x480 with 1 Axes>"
      ]
     },
     "metadata": {},
     "output_type": "display_data"
    },
    {
     "name": "stdout",
     "output_type": "stream",
     "text": [
      "\n",
      "\n",
      "\n"
     ]
    }
   ],
   "source": [
    "loss_history = train_setup(net3, lr=0.001, n_batches=20000, batch_size = 64, display_freq=10, device = device_gpu)"
   ]
  },
  {
   "cell_type": "markdown",
   "metadata": {},
   "source": [
    "### Inference"
   ]
  },
  {
   "cell_type": "code",
   "execution_count": 28,
   "metadata": {},
   "outputs": [],
   "source": [
    "def infer(net, word, char_limit, device = 'cpu'):\n",
    "    input = word_rep(word, eng_alpha2index, device)\n",
    "    return net(input, char_limit)"
   ]
  },
  {
   "cell_type": "code",
   "execution_count": 29,
   "metadata": {},
   "outputs": [],
   "source": [
    "def test(net, word, device = 'cpu'):\n",
    "    net = net.eval().to(device)\n",
    "    outputs = infer(net, word, 30, device)\n",
    "    hindi_output = ''\n",
    "    for out in outputs:\n",
    "        val, indices = out.topk(1)\n",
    "        index = indices.tolist()[0][0]\n",
    "        if index == 0:\n",
    "            break\n",
    "        hindi_char = hindi_alphabets[index+1]\n",
    "        hindi_output += hindi_char\n",
    "    print(word + ' - ' + hindi_output)\n",
    "    return hindi_output"
   ]
  },
  {
   "cell_type": "code",
   "execution_count": 30,
   "metadata": {},
   "outputs": [],
   "source": [
    "def calc_accuracy(net, device = 'cpu'):\n",
    "    net = net.eval().to(device)\n",
    "    predictions = []\n",
    "    accuracy = 0\n",
    "    for i in range(len(test_data)):\n",
    "        eng, hindi = test_data[i]\n",
    "        gt = gt_rep(hindi, hindi_alpha2index, device)\n",
    "        outputs = infer(net, eng, gt.shape[0], device)\n",
    "        correct = 0\n",
    "        for index, out in enumerate(outputs):\n",
    "            val, indices = out.topk(1)\n",
    "            hindi_pos = indices.tolist()[0]\n",
    "            if hindi_pos[0] == gt[index][0]:\n",
    "                correct += 1\n",
    "\n",
    "        accuracy += correct/gt.shape[0]\n",
    "    accuracy /= len(test_data)\n",
    "    return accuracy"
   ]
  },
  {
   "cell_type": "code",
   "execution_count": 31,
   "metadata": {},
   "outputs": [
    {
     "name": "stdout",
     "output_type": "stream",
     "text": [
      "Accuracy:  83.66517871017867\n"
     ]
    }
   ],
   "source": [
    "accuracy = calc_accuracy(net3) * 100\n",
    "print('Accuracy: ', accuracy)"
   ]
  },
  {
   "cell_type": "code",
   "execution_count": 33,
   "metadata": {},
   "outputs": [
    {
     "name": "stdout",
     "output_type": "stream",
     "text": [
      "HELLO - ऻॉऴ्\n"
     ]
    }
   ],
   "source": [
    "hindi_word = test(net3, 'HELLO')"
   ]
  },
  {
   "cell_type": "code",
   "execution_count": 40,
   "metadata": {},
   "outputs": [
    {
     "name": "stdout",
     "output_type": "stream",
     "text": [
      "DISTANCE - णुऺॏडॉऄऺ\n"
     ]
    }
   ],
   "source": [
    "hindi_word = test(net3, 'DISTANCE') #CAUTION MAINTAIN SOCIAL DISTANCINGAT LEAST 6ft. DISTANCE FROM OTHERS"
   ]
  },
  {
   "cell_type": "code",
   "execution_count": null,
   "metadata": {},
   "outputs": [],
   "source": []
  }
 ],
 "metadata": {
  "kernelspec": {
   "display_name": "base",
   "language": "python",
   "name": "python3"
  },
  "language_info": {
   "codemirror_mode": {
    "name": "ipython",
    "version": 3
   },
   "file_extension": ".py",
   "mimetype": "text/x-python",
   "name": "python",
   "nbconvert_exporter": "python",
   "pygments_lexer": "ipython3",
   "version": "3.11.7"
  }
 },
 "nbformat": 4,
 "nbformat_minor": 2
}
